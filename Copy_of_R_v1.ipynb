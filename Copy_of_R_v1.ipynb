{
  "nbformat": 4,
  "nbformat_minor": 0,
  "metadata": {
    "colab": {
      "name": "Copy of R_v1.ipynb",
      "provenance": [],
      "collapsed_sections": []
    },
    "kernelspec": {
      "name": "ir",
      "display_name": "R"
    },
    "language_info": {
      "name": "R"
    },
    "accelerator": "GPU"
  },
  "cells": [
    {
      "cell_type": "markdown",
      "metadata": {
        "id": "Lz5ylH3PSF_1"
      },
      "source": [
        "**Exercise-1.**\n",
        "\n",
        "Brodnjak-Vonina et al. (2005) develop a methodology for food laboratories to determine the type of oil from a sample. In their procedure, they used a gas chromatograph (an instrument that separates chemicals in a sample) to measure seven different fatty acids in an oil. These measurements would then be used to predict the type of oil in a food sample. To create their model, they used 96 samples of seven types of oils.\n",
        "\n",
        "These data can be found in the caret package using data(oil). The oil types are contained in a factor variable called oilType. The types are pumpkin (coded as A), sunflower (B), peanut (C), olive (D), soybean (E), rapeseed (F) and corn (G).\n",
        "\n",
        "a.\tUse the sample function in base R to create a completely random sample of 60 oils. How closely do the frequencies of the random sample match the original samples? Repeat this procedure several times to understand the variation in the sampling process.\n",
        "\n",
        "b.\tUse the caret package function createDataPartition to create a stratified random sample. How does this compare to the completely random samples?\n",
        "\n",
        "c.\tWith such a small sample size, what are the options for determining performance of the model? Should a test set be used?\n",
        "\n",
        "d.\tOne method for understanding the uncertainty of a test set is to use a confidence interval. To obtain a confidence interval for the overall accu- racy, the based R function binom.test can be used. It requires the user to input the number of samples and the number correctly classified to calculate the interval. For example, suppose a test set sample of 20 oil samples was set aside and 76 were used for model training. For this test set size and a model that is about 80 % accurate (16 out of 20 correct), the confidence interval would be computed using\n",
        "binom.test(16, 20)\n",
        "             Exact binomial test\n",
        "data: 16 and 20\n",
        "number of successes = 16, number of trials = 20, p-value = 0.01182       alternative hypothesis: true probability of success is not equal to 0.5                   95 percent confidence interval:\n",
        "0.563386 0.942666 \n",
        "sample estimates: \n",
        "probability of success\n",
        "0.8\n",
        "In this case, the width of the 95% confidence interval is 37.9%. Try different samples sizes and accuracy rates to understand the trade-off between the uncertainty in the results, the model performance, and the test set size.\n",
        "```{r}"
      ]
    },
    {
      "cell_type": "code",
      "metadata": {
        "colab": {
          "base_uri": "https://localhost:8080/"
        },
        "id": "-JUtWBuXG0Y0",
        "outputId": "aeedcd83-693f-48b4-8306-e8c02ab436f4"
      },
      "source": [
        "install.packages(\"caret\")\n",
        "library(caret)"
      ],
      "execution_count": null,
      "outputs": [
        {
          "output_type": "stream",
          "text": [
            "Installing package into ‘/usr/local/lib/R/site-library’\n",
            "(as ‘lib’ is unspecified)\n",
            "\n",
            "Loading required package: lattice\n",
            "\n",
            "Loading required package: ggplot2\n",
            "\n",
            "Warning message in system(\"timedatectl\", intern = TRUE):\n",
            "“running command 'timedatectl' had status 1”\n"
          ],
          "name": "stderr"
        }
      ]
    },
    {
      "cell_type": "code",
      "metadata": {
        "colab": {
          "base_uri": "https://localhost:8080/",
          "height": 87
        },
        "id": "YSU10Tp4Ot-C",
        "outputId": "1bac69ea-50a9-40af-f030-2cd53e97cd42"
      },
      "source": [
        "library(caret)\n",
        "data(oil)\n",
        "str(oilType)\n",
        "table(oilType)"
      ],
      "execution_count": null,
      "outputs": [
        {
          "output_type": "stream",
          "text": [
            " Factor w/ 7 levels \"A\",\"B\",\"C\",\"D\",..: 1 1 1 1 1 1 1 1 1 1 ...\n"
          ],
          "name": "stdout"
        },
        {
          "output_type": "display_data",
          "data": {
            "text/plain": [
              "oilType\n",
              " A  B  C  D  E  F  G \n",
              "37 26  3  7 11 10  2 "
            ]
          },
          "metadata": {
            "tags": []
          }
        }
      ]
    },
    {
      "cell_type": "code",
      "metadata": {
        "colab": {
          "base_uri": "https://localhost:8080/",
          "height": 265
        },
        "id": "6Y9g9ozDO5iY",
        "outputId": "706970db-c66d-47e0-b0d9-964afdf3d2d9"
      },
      "source": [
        "##We can create 20 splits using the sample function:\n",
        "sampNum <- floor(length(oilType)*.6) + 1\n",
        "set.seed(629)\n",
        "oilSplits <- vector(mode = \"list\", length = 20)\n",
        "for(i in seq(along = oilSplits)) oilSplits[[i]] <- table(sample(oilType, size = sampNum))\n",
        "head(oilSplits, 3)"
      ],
      "execution_count": null,
      "outputs": [
        {
          "output_type": "display_data",
          "data": {
            "text/plain": [
              "[[1]]\n",
              "\n",
              " A  B  C  D  E  F  G \n",
              "20 16  2  4  8  8  0 \n",
              "\n",
              "[[2]]\n",
              "\n",
              " A  B  C  D  E  F  G \n",
              "22 17  2  5  4  6  2 \n",
              "\n",
              "[[3]]\n",
              "\n",
              " A  B  C  D  E  F  G \n",
              "27 15  1  4  5  4  2 \n"
            ]
          },
          "metadata": {
            "tags": []
          }
        }
      ]
    },
    {
      "cell_type": "code",
      "metadata": {
        "colab": {
          "base_uri": "https://localhost:8080/",
          "height": 154
        },
        "id": "xsIhxkYFPJq3",
        "outputId": "95746462-e9e4-44e8-8b2c-2feeeabee16b"
      },
      "source": [
        "## Combine the list of tables into a matrix\n",
        "oilSplits <- do.call(\"rbind\", oilSplits)\n",
        "head(oilSplits, 3)"
      ],
      "execution_count": null,
      "outputs": [
        {
          "output_type": "display_data",
          "data": {
            "text/plain": [
              "     A  B  C D E F G\n",
              "[1,] 20 16 2 4 8 8 0\n",
              "[2,] 22 17 2 5 4 6 2\n",
              "[3,] 27 15 1 4 5 4 2"
            ],
            "text/latex": "A matrix: 3 × 7 of type int\n\\begin{tabular}{lllllll}\n A & B & C & D & E & F & G\\\\\n\\hline\n\t 20 & 16 & 2 & 4 & 8 & 8 & 0\\\\\n\t 22 & 17 & 2 & 5 & 4 & 6 & 2\\\\\n\t 27 & 15 & 1 & 4 & 5 & 4 & 2\\\\\n\\end{tabular}\n",
            "text/markdown": "\nA matrix: 3 × 7 of type int\n\n| A | B | C | D | E | F | G |\n|---|---|---|---|---|---|---|\n| 20 | 16 | 2 | 4 | 8 | 8 | 0 |\n| 22 | 17 | 2 | 5 | 4 | 6 | 2 |\n| 27 | 15 | 1 | 4 | 5 | 4 | 2 |\n\n",
            "text/html": [
              "<table class=\"dataframe\">\n",
              "<caption>A matrix: 3 × 7 of type int</caption>\n",
              "<thead>\n",
              "\t<tr><th scope=col>A</th><th scope=col>B</th><th scope=col>C</th><th scope=col>D</th><th scope=col>E</th><th scope=col>F</th><th scope=col>G</th></tr>\n",
              "</thead>\n",
              "<tbody>\n",
              "\t<tr><td>20</td><td>16</td><td>2</td><td>4</td><td>8</td><td>8</td><td>0</td></tr>\n",
              "\t<tr><td>22</td><td>17</td><td>2</td><td>5</td><td>4</td><td>6</td><td>2</td></tr>\n",
              "\t<tr><td>27</td><td>15</td><td>1</td><td>4</td><td>5</td><td>4</td><td>2</td></tr>\n",
              "</tbody>\n",
              "</table>\n"
            ]
          },
          "metadata": {
            "tags": []
          }
        }
      ]
    },
    {
      "cell_type": "code",
      "metadata": {
        "colab": {
          "base_uri": "https://localhost:8080/",
          "height": 265
        },
        "id": "37KsUADQPQ3g",
        "outputId": "4c813e3b-608d-421b-8871-aa1278e10bda"
      },
      "source": [
        "## What does the distirbution of class percentages look like?\n",
        "summary(oilSplits/sampNum)"
      ],
      "execution_count": null,
      "outputs": [
        {
          "output_type": "display_data",
          "data": {
            "text/plain": [
              "       A                B                C                 D          \n",
              " Min.   :0.3276   Min.   :0.1897   Min.   :0.00000   Min.   :0.01724  \n",
              " 1st Qu.:0.3621   1st Qu.:0.2543   1st Qu.:0.01724   1st Qu.:0.06466  \n",
              " Median :0.3966   Median :0.2759   Median :0.03448   Median :0.06897  \n",
              " Mean   :0.3931   Mean   :0.2707   Mean   :0.02931   Mean   :0.07328  \n",
              " 3rd Qu.:0.4138   3rd Qu.:0.2931   3rd Qu.:0.03448   3rd Qu.:0.08621  \n",
              " Max.   :0.4655   Max.   :0.3448   Max.   :0.05172   Max.   :0.12069  \n",
              "       E                 F                 G          \n",
              " Min.   :0.05172   Min.   :0.06897   Min.   :0.00000  \n",
              " 1st Qu.:0.08621   1st Qu.:0.08621   1st Qu.:0.01724  \n",
              " Median :0.10345   Median :0.09483   Median :0.01724  \n",
              " Mean   :0.10603   Mean   :0.10345   Mean   :0.02414  \n",
              " 3rd Qu.:0.12069   3rd Qu.:0.12069   3rd Qu.:0.03448  \n",
              " Max.   :0.15517   Max.   :0.17241   Max.   :0.03448  "
            ]
          },
          "metadata": {
            "tags": []
          }
        }
      ]
    },
    {
      "cell_type": "code",
      "metadata": {
        "colab": {
          "base_uri": "https://localhost:8080/",
          "height": 265
        },
        "id": "Ot1n8HZ4PUMQ",
        "outputId": "f4c93789-53fa-4ca5-db54-cd381d90d8d5"
      },
      "source": [
        "##Using a stratified random sample using createDataPartition:\n",
        "set.seed(629)\n",
        "oilSplits2 <- createDataPartition(oilType, p = .60, times = 20)\n",
        "oilSplits2 <- lapply(oilSplits2, function(x, y) table(y[x]), y = oilType)\n",
        "head(oilSplits2, 3)"
      ],
      "execution_count": null,
      "outputs": [
        {
          "output_type": "display_data",
          "data": {
            "text/plain": [
              "$Resample01\n",
              "\n",
              " A  B  C  D  E  F  G \n",
              "23 16  2  5  7  6  2 \n",
              "\n",
              "$Resample02\n",
              "\n",
              " A  B  C  D  E  F  G \n",
              "23 16  2  5  7  6  2 \n",
              "\n",
              "$Resample03\n",
              "\n",
              " A  B  C  D  E  F  G \n",
              "23 16  2  5  7  6  2 \n"
            ]
          },
          "metadata": {
            "tags": []
          }
        }
      ]
    },
    {
      "cell_type": "code",
      "metadata": {
        "colab": {
          "base_uri": "https://localhost:8080/",
          "height": 265
        },
        "id": "2mhF3FBmPbMh",
        "outputId": "12c611c3-4c1a-4b39-baa0-b35303a8e0ef"
      },
      "source": [
        "oilSplits2 <- do.call(\"rbind\", oilSplits2)\n",
        "summary(oilSplits2/sampNum)"
      ],
      "execution_count": null,
      "outputs": [
        {
          "output_type": "display_data",
          "data": {
            "text/plain": [
              "       A                B                C                 D          \n",
              " Min.   :0.3966   Min.   :0.2759   Min.   :0.03448   Min.   :0.08621  \n",
              " 1st Qu.:0.3966   1st Qu.:0.2759   1st Qu.:0.03448   1st Qu.:0.08621  \n",
              " Median :0.3966   Median :0.2759   Median :0.03448   Median :0.08621  \n",
              " Mean   :0.3966   Mean   :0.2759   Mean   :0.03448   Mean   :0.08621  \n",
              " 3rd Qu.:0.3966   3rd Qu.:0.2759   3rd Qu.:0.03448   3rd Qu.:0.08621  \n",
              " Max.   :0.3966   Max.   :0.2759   Max.   :0.03448   Max.   :0.08621  \n",
              "       E                F                G          \n",
              " Min.   :0.1207   Min.   :0.1034   Min.   :0.03448  \n",
              " 1st Qu.:0.1207   1st Qu.:0.1034   1st Qu.:0.03448  \n",
              " Median :0.1207   Median :0.1034   Median :0.03448  \n",
              " Mean   :0.1207   Mean   :0.1034   Mean   :0.03448  \n",
              " 3rd Qu.:0.1207   3rd Qu.:0.1034   3rd Qu.:0.03448  \n",
              " Max.   :0.1207   Max.   :0.1034   Max.   :0.03448  "
            ]
          },
          "metadata": {
            "tags": []
          }
        }
      ]
    },
    {
      "cell_type": "markdown",
      "metadata": {
        "id": "xd96WTwfe1mU"
      },
      "source": [
        "The sampling done using createDataPartition has much less variability that using the sample\n",
        "function, and each partition has at least one sample in each class.\n",
        "Choosing a data splitting strategy is dificult. One possibility would be leave{one{out cross{\n",
        "validation only because, with the exception of class G, each class will be represented in each re-\n",
        "sample. It should be noted that some classification models require at least one sample from each\n",
        "class, so resampling these data may place a restriction one which models can be used. As for a test\n",
        "set, it may be reasonable to rely on leave{one{out cross{validation as the only method for assessing\n",
        "performance. Alternatively, a test set could be used if it only consisted of the classes with the most\n",
        "samples (e.g. A, B and maybe E and F) although this would only protect against gross overfitting.\n",
        "Looking at the confidence intervals for overall accuracy, let's examine samples sizes between 10 and\n",
        "30 and accuracy rates of 70% to 95%:"
      ]
    },
    {
      "cell_type": "code",
      "metadata": {
        "colab": {
          "base_uri": "https://localhost:8080/",
          "height": 213
        },
        "id": "sVg_ka21PfJI",
        "outputId": "1ed53d8c-83fd-4f18-b418-336e9802fe7f"
      },
      "source": [
        "#Looking at the con\fdence intervals for overall accuracy, lets examine samples sizes between 10 and 30 and accuracy rates of 70% to 95%:\n",
        "\n",
        "getWidth <- function(values) {\n",
        "  binom.test(x = floor(values[\"size\"]*values[\"accuracy\"])+1, \n",
        "             n = values[\"size\"])$conf.int\n",
        "}\n",
        "\n",
        "ciInfo <- expand.grid(size = 10:30, accuracy = seq(.7, .95, by = 0.01))\n",
        "ciWidths <- t(apply(ciInfo, 1, getWidth))\n",
        "head(ciWidths)"
      ],
      "execution_count": null,
      "outputs": [
        {
          "output_type": "display_data",
          "data": {
            "text/plain": [
              "     [,1]      [,2]     \n",
              "[1,] 0.4439045 0.9747893\n",
              "[2,] 0.3902574 0.9397823\n",
              "[3,] 0.4281415 0.9451394\n",
              "[4,] 0.4618685 0.9496189\n",
              "[5,] 0.4189647 0.9161107\n",
              "[6,] 0.4489968 0.9221285"
            ],
            "text/latex": "A matrix: 6 × 2 of type dbl\n\\begin{tabular}{ll}\n\t 0.4439045 & 0.9747893\\\\\n\t 0.3902574 & 0.9397823\\\\\n\t 0.4281415 & 0.9451394\\\\\n\t 0.4618685 & 0.9496189\\\\\n\t 0.4189647 & 0.9161107\\\\\n\t 0.4489968 & 0.9221285\\\\\n\\end{tabular}\n",
            "text/markdown": "\nA matrix: 6 × 2 of type dbl\n\n| 0.4439045 | 0.9747893 |\n| 0.3902574 | 0.9397823 |\n| 0.4281415 | 0.9451394 |\n| 0.4618685 | 0.9496189 |\n| 0.4189647 | 0.9161107 |\n| 0.4489968 | 0.9221285 |\n\n",
            "text/html": [
              "<table class=\"dataframe\">\n",
              "<caption>A matrix: 6 × 2 of type dbl</caption>\n",
              "<tbody>\n",
              "\t<tr><td>0.4439045</td><td>0.9747893</td></tr>\n",
              "\t<tr><td>0.3902574</td><td>0.9397823</td></tr>\n",
              "\t<tr><td>0.4281415</td><td>0.9451394</td></tr>\n",
              "\t<tr><td>0.4618685</td><td>0.9496189</td></tr>\n",
              "\t<tr><td>0.4189647</td><td>0.9161107</td></tr>\n",
              "\t<tr><td>0.4489968</td><td>0.9221285</td></tr>\n",
              "</tbody>\n",
              "</table>\n"
            ]
          },
          "metadata": {
            "tags": []
          }
        }
      ]
    },
    {
      "cell_type": "code",
      "metadata": {
        "id": "YldUcXudQDAg"
      },
      "source": [
        "ciInfo$length <- ciWidths[,2] - ciWidths[,1]"
      ],
      "execution_count": null,
      "outputs": []
    },
    {
      "cell_type": "code",
      "metadata": {
        "colab": {
          "base_uri": "https://localhost:8080/",
          "height": 436
        },
        "id": "n8B7ykkVQG6v",
        "outputId": "11efea5e-a72d-4f8d-ba7b-d01784975c01"
      },
      "source": [
        "levelplot(length ~ size * accuracy, data = ciInfo)"
      ],
      "execution_count": null,
      "outputs": [
        {
          "output_type": "display_data",
          "data": {
            "image/png": "[encoded data removed]",
            "text/plain": [
              "plot without title"
            ]
          },
          "metadata": {
            "tags": [],
            "image/png": {
              "width": 420,
              "height": 420
            }
          }
        }
      ]
    },
    {
      "cell_type": "code",
      "metadata": {
        "id": "Bca-6uV9QKNp"
      },
      "source": [
        "##Figure : The width of a binomial confidence interval for overall accuracy for di\u000berent sample sizes and accuracy rates."
      ],
      "execution_count": null,
      "outputs": []
    },
    {
      "cell_type": "code",
      "metadata": {
        "id": "xMvkR_iuTlCr"
      },
      "source": [
        ""
      ],
      "execution_count": null,
      "outputs": []
    },
    {
      "cell_type": "code",
      "metadata": {
        "id": "x-FRfzk2Tk9M"
      },
      "source": [
        ""
      ],
      "execution_count": null,
      "outputs": []
    },
    {
      "cell_type": "markdown",
      "metadata": {
        "id": "g4JlVfX7EZ-_"
      },
      "source": [
        "**Exercise 2**\n",
        "\n",
        "Partial least squares (Sect. 6.3) was used to model the yield of a chemical manufacturing process\n",
        "(Sect. 1.4). The data can be found in the AppliedPredictiveModeling package and can be loaded\n",
        "using:\n",
        "library(AppliedPredictiveModeling)\n",
        "data(ChemicalManufacturingProcess)\n",
        "\n",
        "The objective of this analysis is to \fnd the number of PLS components that yields the optimal R2 value (Sect. 5.1). PLS models with 1 through 10 components were each evaluated using 5 repeats of 10-fold cross{validation and the results are presented in the following table.\n",
        "\n",
        "(a) Using the \\one{standard error\" method, what number of PLS components provides the\n",
        "most parsimonious model?\n",
        "\n",
        "(b) Compute the tolerance values for this example. If a 10% loss in R2 is acceptable, then\n",
        "what is the optimal number of PLS components?\n",
        "\n",
        "(c) Several other models (discussed in Part II) with varying degrees of complexity were trained\n",
        "and tuned and the results are presented in Figure 6. If the goal is to select the model that optimizes R2, then which model(s) would you choose, and why?\n",
        "\n",
        "(d) Prediction time, as well as model complexity (Sect. 4.8) are other factors to consider when\n",
        "selecting the optimal model(s). Given each model's prediction time, model complexity, and\n",
        "R2 estimates, which model(s) would you choose, and why?"
      ]
    },
    {
      "cell_type": "code",
      "metadata": {
        "colab": {
          "base_uri": "https://localhost:8080/"
        },
        "id": "SFtdjUfyVt7p",
        "outputId": "211851d1-9159-4cdb-ff29-4e6aef61faea"
      },
      "source": [
        "install.packages(\"AppliedPredictiveModeling\")\n",
        "\n",
        "library(AppliedPredictiveModeling)\n",
        "data(ChemicalManufacturingProcess)"
      ],
      "execution_count": null,
      "outputs": [
        {
          "output_type": "stream",
          "text": [
            "Installing package into ‘/usr/local/lib/R/site-library’\n",
            "(as ‘lib’ is unspecified)\n",
            "\n",
            "also installing the dependencies ‘plotrix’, ‘rpart.plot’, ‘CORElearn’, ‘ellipse’\n",
            "\n",
            "\n"
          ],
          "name": "stderr"
        }
      ]
    },
    {
      "cell_type": "code",
      "metadata": {
        "id": "kV7Z9iyiTmiM"
      },
      "source": [
        "set.seed(19711230)"
      ],
      "execution_count": null,
      "outputs": []
    },
    {
      "cell_type": "code",
      "metadata": {
        "colab": {
          "base_uri": "https://localhost:8080/"
        },
        "id": "zbuOmJ1pgsX8",
        "outputId": "42437449-c175-4005-c011-73dd9e52b0d0"
      },
      "source": [
        "install.packages(\"pls\")"
      ],
      "execution_count": null,
      "outputs": [
        {
          "output_type": "stream",
          "text": [
            "Installing package into ‘/usr/local/lib/R/site-library’\n",
            "(as ‘lib’ is unspecified)\n",
            "\n"
          ],
          "name": "stderr"
        }
      ]
    },
    {
      "cell_type": "code",
      "metadata": {
        "id": "laKOdH2-VgLR"
      },
      "source": [
        "plsProfileChemMod <- train(Yield ~.,\n",
        "                           data = ChemicalManufacturingProcess,\n",
        "                           method = \"pls\",\n",
        "                           preProc = c(\"center\", \"scale\"),\n",
        "                           tuneLength = 10,\n",
        "                           na.action = na.omit,\n",
        "                           trControl = trainControl(method = \"repeatedcv\", repeats = 5))"
      ],
      "execution_count": null,
      "outputs": []
    },
    {
      "cell_type": "code",
      "metadata": {
        "id": "75e-JCXqiXai"
      },
      "source": [
        "R2values <- plsProfileChemMod$results[, c(\"ncomp\", \"Rsquared\", \"RsquaredSD\")]"
      ],
      "execution_count": null,
      "outputs": []
    },
    {
      "cell_type": "code",
      "metadata": {
        "colab": {
          "base_uri": "https://localhost:8080/",
          "height": 394
        },
        "id": "UkK4heETi-Gy",
        "outputId": "10512e3d-c05e-430d-d401-9e4fdb2e4f16"
      },
      "source": [
        "R2values"
      ],
      "execution_count": null,
      "outputs": [
        {
          "output_type": "display_data",
          "data": {
            "text/plain": [
              "   ncomp Rsquared  RsquaredSD\n",
              "1   1    0.4726421 0.1660651 \n",
              "2   2    0.5253114 0.2006367 \n",
              "3   3    0.5621905 0.1807620 \n",
              "4   4    0.5647105 0.2018239 \n",
              "5   5    0.5581451 0.2174532 \n",
              "6   6    0.5548752 0.2211794 \n",
              "7   7    0.5497984 0.2206225 \n",
              "8   8    0.5509036 0.2220023 \n",
              "9   9    0.5376723 0.2163611 \n",
              "10 10    0.5269045 0.2147949 "
            ],
            "text/latex": "A data.frame: 10 × 3\n\\begin{tabular}{r|lll}\n  & ncomp & Rsquared & RsquaredSD\\\\\n  & <dbl> & <dbl> & <dbl>\\\\\n\\hline\n\t1 &  1 & 0.4726421 & 0.1660651\\\\\n\t2 &  2 & 0.5253114 & 0.2006367\\\\\n\t3 &  3 & 0.5621905 & 0.1807620\\\\\n\t4 &  4 & 0.5647105 & 0.2018239\\\\\n\t5 &  5 & 0.5581451 & 0.2174532\\\\\n\t6 &  6 & 0.5548752 & 0.2211794\\\\\n\t7 &  7 & 0.5497984 & 0.2206225\\\\\n\t8 &  8 & 0.5509036 & 0.2220023\\\\\n\t9 &  9 & 0.5376723 & 0.2163611\\\\\n\t10 & 10 & 0.5269045 & 0.2147949\\\\\n\\end{tabular}\n",
            "text/markdown": "\nA data.frame: 10 × 3\n\n| <!--/--> | ncomp &lt;dbl&gt; | Rsquared &lt;dbl&gt; | RsquaredSD &lt;dbl&gt; |\n|---|---|---|---|\n| 1 |  1 | 0.4726421 | 0.1660651 |\n| 2 |  2 | 0.5253114 | 0.2006367 |\n| 3 |  3 | 0.5621905 | 0.1807620 |\n| 4 |  4 | 0.5647105 | 0.2018239 |\n| 5 |  5 | 0.5581451 | 0.2174532 |\n| 6 |  6 | 0.5548752 | 0.2211794 |\n| 7 |  7 | 0.5497984 | 0.2206225 |\n| 8 |  8 | 0.5509036 | 0.2220023 |\n| 9 |  9 | 0.5376723 | 0.2163611 |\n| 10 | 10 | 0.5269045 | 0.2147949 |\n\n",
            "text/html": [
              "<table class=\"dataframe\">\n",
              "<caption>A data.frame: 10 × 3</caption>\n",
              "<thead>\n",
              "\t<tr><th></th><th scope=col>ncomp</th><th scope=col>Rsquared</th><th scope=col>RsquaredSD</th></tr>\n",
              "\t<tr><th></th><th scope=col>&lt;dbl&gt;</th><th scope=col>&lt;dbl&gt;</th><th scope=col>&lt;dbl&gt;</th></tr>\n",
              "</thead>\n",
              "<tbody>\n",
              "\t<tr><th scope=row>1</th><td> 1</td><td>0.4726421</td><td>0.1660651</td></tr>\n",
              "\t<tr><th scope=row>2</th><td> 2</td><td>0.5253114</td><td>0.2006367</td></tr>\n",
              "\t<tr><th scope=row>3</th><td> 3</td><td>0.5621905</td><td>0.1807620</td></tr>\n",
              "\t<tr><th scope=row>4</th><td> 4</td><td>0.5647105</td><td>0.2018239</td></tr>\n",
              "\t<tr><th scope=row>5</th><td> 5</td><td>0.5581451</td><td>0.2174532</td></tr>\n",
              "\t<tr><th scope=row>6</th><td> 6</td><td>0.5548752</td><td>0.2211794</td></tr>\n",
              "\t<tr><th scope=row>7</th><td> 7</td><td>0.5497984</td><td>0.2206225</td></tr>\n",
              "\t<tr><th scope=row>8</th><td> 8</td><td>0.5509036</td><td>0.2220023</td></tr>\n",
              "\t<tr><th scope=row>9</th><td> 9</td><td>0.5376723</td><td>0.2163611</td></tr>\n",
              "\t<tr><th scope=row>10</th><td>10</td><td>0.5269045</td><td>0.2147949</td></tr>\n",
              "</tbody>\n",
              "</table>\n"
            ]
          },
          "metadata": {
            "tags": []
          }
        }
      ]
    },
    {
      "cell_type": "code",
      "metadata": {
        "id": "sOu2LB2Qi_dB"
      },
      "source": [
        "R2values$RsquaredSEM <- R2values$RsquaredSD/sqrt(length(plsProfileChemMod$control$index))"
      ],
      "execution_count": null,
      "outputs": []
    },
    {
      "cell_type": "code",
      "metadata": {
        "colab": {
          "base_uri": "https://localhost:8080/",
          "height": 394
        },
        "id": "rLuruQYljDzh",
        "outputId": "0d10a2c3-5161-44fd-e4cf-085be0ff156e"
      },
      "source": [
        "R2values"
      ],
      "execution_count": null,
      "outputs": [
        {
          "output_type": "display_data",
          "data": {
            "text/plain": [
              "   ncomp Rsquared  RsquaredSD RsquaredSEM\n",
              "1   1    0.4726421 0.1660651  0.02348515 \n",
              "2   2    0.5253114 0.2006367  0.02837432 \n",
              "3   3    0.5621905 0.1807620  0.02556361 \n",
              "4   4    0.5647105 0.2018239  0.02854221 \n",
              "5   5    0.5581451 0.2174532  0.03075253 \n",
              "6   6    0.5548752 0.2211794  0.03127949 \n",
              "7   7    0.5497984 0.2206225  0.03120074 \n",
              "8   8    0.5509036 0.2220023  0.03139586 \n",
              "9   9    0.5376723 0.2163611  0.03059808 \n",
              "10 10    0.5269045 0.2147949  0.03037659 "
            ],
            "text/latex": "A data.frame: 10 × 4\n\\begin{tabular}{r|llll}\n  & ncomp & Rsquared & RsquaredSD & RsquaredSEM\\\\\n  & <dbl> & <dbl> & <dbl> & <dbl>\\\\\n\\hline\n\t1 &  1 & 0.4726421 & 0.1660651 & 0.02348515\\\\\n\t2 &  2 & 0.5253114 & 0.2006367 & 0.02837432\\\\\n\t3 &  3 & 0.5621905 & 0.1807620 & 0.02556361\\\\\n\t4 &  4 & 0.5647105 & 0.2018239 & 0.02854221\\\\\n\t5 &  5 & 0.5581451 & 0.2174532 & 0.03075253\\\\\n\t6 &  6 & 0.5548752 & 0.2211794 & 0.03127949\\\\\n\t7 &  7 & 0.5497984 & 0.2206225 & 0.03120074\\\\\n\t8 &  8 & 0.5509036 & 0.2220023 & 0.03139586\\\\\n\t9 &  9 & 0.5376723 & 0.2163611 & 0.03059808\\\\\n\t10 & 10 & 0.5269045 & 0.2147949 & 0.03037659\\\\\n\\end{tabular}\n",
            "text/markdown": "\nA data.frame: 10 × 4\n\n| <!--/--> | ncomp &lt;dbl&gt; | Rsquared &lt;dbl&gt; | RsquaredSD &lt;dbl&gt; | RsquaredSEM &lt;dbl&gt; |\n|---|---|---|---|---|\n| 1 |  1 | 0.4726421 | 0.1660651 | 0.02348515 |\n| 2 |  2 | 0.5253114 | 0.2006367 | 0.02837432 |\n| 3 |  3 | 0.5621905 | 0.1807620 | 0.02556361 |\n| 4 |  4 | 0.5647105 | 0.2018239 | 0.02854221 |\n| 5 |  5 | 0.5581451 | 0.2174532 | 0.03075253 |\n| 6 |  6 | 0.5548752 | 0.2211794 | 0.03127949 |\n| 7 |  7 | 0.5497984 | 0.2206225 | 0.03120074 |\n| 8 |  8 | 0.5509036 | 0.2220023 | 0.03139586 |\n| 9 |  9 | 0.5376723 | 0.2163611 | 0.03059808 |\n| 10 | 10 | 0.5269045 | 0.2147949 | 0.03037659 |\n\n",
            "text/html": [
              "<table class=\"dataframe\">\n",
              "<caption>A data.frame: 10 × 4</caption>\n",
              "<thead>\n",
              "\t<tr><th></th><th scope=col>ncomp</th><th scope=col>Rsquared</th><th scope=col>RsquaredSD</th><th scope=col>RsquaredSEM</th></tr>\n",
              "\t<tr><th></th><th scope=col>&lt;dbl&gt;</th><th scope=col>&lt;dbl&gt;</th><th scope=col>&lt;dbl&gt;</th><th scope=col>&lt;dbl&gt;</th></tr>\n",
              "</thead>\n",
              "<tbody>\n",
              "\t<tr><th scope=row>1</th><td> 1</td><td>0.4726421</td><td>0.1660651</td><td>0.02348515</td></tr>\n",
              "\t<tr><th scope=row>2</th><td> 2</td><td>0.5253114</td><td>0.2006367</td><td>0.02837432</td></tr>\n",
              "\t<tr><th scope=row>3</th><td> 3</td><td>0.5621905</td><td>0.1807620</td><td>0.02556361</td></tr>\n",
              "\t<tr><th scope=row>4</th><td> 4</td><td>0.5647105</td><td>0.2018239</td><td>0.02854221</td></tr>\n",
              "\t<tr><th scope=row>5</th><td> 5</td><td>0.5581451</td><td>0.2174532</td><td>0.03075253</td></tr>\n",
              "\t<tr><th scope=row>6</th><td> 6</td><td>0.5548752</td><td>0.2211794</td><td>0.03127949</td></tr>\n",
              "\t<tr><th scope=row>7</th><td> 7</td><td>0.5497984</td><td>0.2206225</td><td>0.03120074</td></tr>\n",
              "\t<tr><th scope=row>8</th><td> 8</td><td>0.5509036</td><td>0.2220023</td><td>0.03139586</td></tr>\n",
              "\t<tr><th scope=row>9</th><td> 9</td><td>0.5376723</td><td>0.2163611</td><td>0.03059808</td></tr>\n",
              "\t<tr><th scope=row>10</th><td>10</td><td>0.5269045</td><td>0.2147949</td><td>0.03037659</td></tr>\n",
              "</tbody>\n",
              "</table>\n"
            ]
          },
          "metadata": {
            "tags": []
          }
        }
      ]
    },
    {
      "cell_type": "code",
      "metadata": {
        "id": "UJf-gj-ylelJ"
      },
      "source": [
        "\"\"\"R2values Table show the results but lets plot them too. The easiest way to do this is using the package\n",
        "ggplot2. First, we can make a plot of the R2 values, showing the resampled estimate minus one\n",
        "standard error.\"\"\""
      ],
      "execution_count": null,
      "outputs": []
    },
    {
      "cell_type": "code",
      "metadata": {
        "id": "keIneKEvjFIJ"
      },
      "source": [
        "library(ggplot2)\n",
        "oneSE <- ggplot(R2values,\n",
        " ## Create an aesthetic mapping that plots the\n",
        " ## number of PLS components versus the R^2\n",
        " ## values and their one SE lower bound\n",
        " aes(ncomp, Rsquared,\n",
        " ymin = Rsquared - RsquaredSEM,\n",
        " ## don't add anything here to get\n",
        " ## a one-sided interval plot\n",
        " ymax=Rsquared))"
      ],
      "execution_count": null,
      "outputs": []
    },
    {
      "cell_type": "code",
      "metadata": {
        "colab": {
          "base_uri": "https://localhost:8080/",
          "height": 436
        },
        "id": "jMpiQrBGjQjr",
        "outputId": "cf0921f3-f8a1-4cbd-f192-bf410a8068e7"
      },
      "source": [
        "## geom_linerange shoes the interval and geom_pointrange\n",
        "## plots the resampled estimates.\n",
        "oneSE + geom_linerange() + geom_pointrange() + theme_bw()"
      ],
      "execution_count": null,
      "outputs": [
        {
          "output_type": "display_data",
          "data": {
            "image/png": "[encoded data removed]",
            "text/plain": [
              "plot without title"
            ]
          },
          "metadata": {
            "tags": [],
            "image/png": {
              "width": 420,
              "height": 420
            }
          }
        }
      ]
    },
    {
      "cell_type": "markdown",
      "metadata": {
        "id": "ZwwuU_s6mt2m"
      },
      "source": [
        "Figure 1: Resampled R2 values with a lower bound of one standard error for the chemical manu-\n",
        "facturing data."
      ]
    },
    {
      "cell_type": "markdown",
      "metadata": {
        "id": "6rZ3gdIBl5HU"
      },
      "source": [
        "5a)Above Figure shows the results. The best setting uses 4 PLS components with a lower bound of 0.51.\n",
        "There is 1 parameter setting whose resampled R2 estimate is greater than or equal to this bound\n",
        "(and are simpler): a model using 3 PLS components."
      ]
    },
    {
      "cell_type": "code",
      "metadata": {
        "id": "Rn2BF1z6jT2y"
      },
      "source": [
        "bestR2 <- subset(R2values, ncomp == which.max(R2values$Rsquared))"
      ],
      "execution_count": null,
      "outputs": []
    },
    {
      "cell_type": "code",
      "metadata": {
        "colab": {
          "base_uri": "https://localhost:8080/",
          "height": 124
        },
        "id": "T2FHVcj-jXyD",
        "outputId": "79eecc15-8d50-44e6-f591-04af073a1c1a"
      },
      "source": [
        "bestR2"
      ],
      "execution_count": null,
      "outputs": [
        {
          "output_type": "display_data",
          "data": {
            "text/plain": [
              "  ncomp Rsquared  RsquaredSD RsquaredSEM\n",
              "4 4     0.5647105 0.2018239  0.02854221 "
            ],
            "text/latex": "A data.frame: 1 × 4\n\\begin{tabular}{r|llll}\n  & ncomp & Rsquared & RsquaredSD & RsquaredSEM\\\\\n  & <dbl> & <dbl> & <dbl> & <dbl>\\\\\n\\hline\n\t4 & 4 & 0.5647105 & 0.2018239 & 0.02854221\\\\\n\\end{tabular}\n",
            "text/markdown": "\nA data.frame: 1 × 4\n\n| <!--/--> | ncomp &lt;dbl&gt; | Rsquared &lt;dbl&gt; | RsquaredSD &lt;dbl&gt; | RsquaredSEM &lt;dbl&gt; |\n|---|---|---|---|---|\n| 4 | 4 | 0.5647105 | 0.2018239 | 0.02854221 |\n\n",
            "text/html": [
              "<table class=\"dataframe\">\n",
              "<caption>A data.frame: 1 × 4</caption>\n",
              "<thead>\n",
              "\t<tr><th></th><th scope=col>ncomp</th><th scope=col>Rsquared</th><th scope=col>RsquaredSD</th><th scope=col>RsquaredSEM</th></tr>\n",
              "\t<tr><th></th><th scope=col>&lt;dbl&gt;</th><th scope=col>&lt;dbl&gt;</th><th scope=col>&lt;dbl&gt;</th><th scope=col>&lt;dbl&gt;</th></tr>\n",
              "</thead>\n",
              "<tbody>\n",
              "\t<tr><th scope=row>4</th><td>4</td><td>0.5647105</td><td>0.2018239</td><td>0.02854221</td></tr>\n",
              "</tbody>\n",
              "</table>\n"
            ]
          },
          "metadata": {
            "tags": []
          }
        }
      ]
    },
    {
      "cell_type": "code",
      "metadata": {
        "id": "qixsM6qljZ3F"
      },
      "source": [
        "bestR2$lb <- bestR2$Rsquared - bestR2$RsquaredSEM"
      ],
      "execution_count": null,
      "outputs": []
    },
    {
      "cell_type": "code",
      "metadata": {
        "colab": {
          "base_uri": "https://localhost:8080/",
          "height": 124
        },
        "id": "B7tATpbAjc7B",
        "outputId": "9438083f-769f-4a4a-aa6f-4540758cd585"
      },
      "source": [
        "bestR2"
      ],
      "execution_count": null,
      "outputs": [
        {
          "output_type": "display_data",
          "data": {
            "text/plain": [
              "  ncomp Rsquared  RsquaredSD RsquaredSEM lb       \n",
              "4 4     0.5647105 0.2018239  0.02854221  0.5361683"
            ],
            "text/latex": "A data.frame: 1 × 5\n\\begin{tabular}{r|lllll}\n  & ncomp & Rsquared & RsquaredSD & RsquaredSEM & lb\\\\\n  & <dbl> & <dbl> & <dbl> & <dbl> & <dbl>\\\\\n\\hline\n\t4 & 4 & 0.5647105 & 0.2018239 & 0.02854221 & 0.5361683\\\\\n\\end{tabular}\n",
            "text/markdown": "\nA data.frame: 1 × 5\n\n| <!--/--> | ncomp &lt;dbl&gt; | Rsquared &lt;dbl&gt; | RsquaredSD &lt;dbl&gt; | RsquaredSEM &lt;dbl&gt; | lb &lt;dbl&gt; |\n|---|---|---|---|---|---|\n| 4 | 4 | 0.5647105 | 0.2018239 | 0.02854221 | 0.5361683 |\n\n",
            "text/html": [
              "<table class=\"dataframe\">\n",
              "<caption>A data.frame: 1 × 5</caption>\n",
              "<thead>\n",
              "\t<tr><th></th><th scope=col>ncomp</th><th scope=col>Rsquared</th><th scope=col>RsquaredSD</th><th scope=col>RsquaredSEM</th><th scope=col>lb</th></tr>\n",
              "\t<tr><th></th><th scope=col>&lt;dbl&gt;</th><th scope=col>&lt;dbl&gt;</th><th scope=col>&lt;dbl&gt;</th><th scope=col>&lt;dbl&gt;</th><th scope=col>&lt;dbl&gt;</th></tr>\n",
              "</thead>\n",
              "<tbody>\n",
              "\t<tr><th scope=row>4</th><td>4</td><td>0.5647105</td><td>0.2018239</td><td>0.02854221</td><td>0.5361683</td></tr>\n",
              "</tbody>\n",
              "</table>\n"
            ]
          },
          "metadata": {
            "tags": []
          }
        }
      ]
    },
    {
      "cell_type": "code",
      "metadata": {
        "id": "sa_g065ojezx"
      },
      "source": [
        "candR2 <- subset(R2values, Rsquared >= bestR2$lb & ncomp < bestR2$ncomp)"
      ],
      "execution_count": null,
      "outputs": []
    },
    {
      "cell_type": "markdown",
      "metadata": {
        "id": "5xeY4BsGmHXN"
      },
      "source": [
        "5b)The following syntax can be used to get the tolerance values:"
      ]
    },
    {
      "cell_type": "code",
      "metadata": {
        "id": "xFVke9eJjkw5"
      },
      "source": [
        "bestR2 <- subset(R2values, ncomp == which.max(R2values$Rsquared))"
      ],
      "execution_count": null,
      "outputs": []
    },
    {
      "cell_type": "code",
      "metadata": {
        "colab": {
          "base_uri": "https://localhost:8080/",
          "height": 124
        },
        "id": "oVuy6i8wjxAh",
        "outputId": "52c9374c-0258-4547-a225-02d7f9369b65"
      },
      "source": [
        "bestR2"
      ],
      "execution_count": null,
      "outputs": [
        {
          "output_type": "display_data",
          "data": {
            "text/plain": [
              "  ncomp Rsquared  RsquaredSD RsquaredSEM\n",
              "4 4     0.5647105 0.2018239  0.02854221 "
            ],
            "text/latex": "A data.frame: 1 × 4\n\\begin{tabular}{r|llll}\n  & ncomp & Rsquared & RsquaredSD & RsquaredSEM\\\\\n  & <dbl> & <dbl> & <dbl> & <dbl>\\\\\n\\hline\n\t4 & 4 & 0.5647105 & 0.2018239 & 0.02854221\\\\\n\\end{tabular}\n",
            "text/markdown": "\nA data.frame: 1 × 4\n\n| <!--/--> | ncomp &lt;dbl&gt; | Rsquared &lt;dbl&gt; | RsquaredSD &lt;dbl&gt; | RsquaredSEM &lt;dbl&gt; |\n|---|---|---|---|---|\n| 4 | 4 | 0.5647105 | 0.2018239 | 0.02854221 |\n\n",
            "text/html": [
              "<table class=\"dataframe\">\n",
              "<caption>A data.frame: 1 × 4</caption>\n",
              "<thead>\n",
              "\t<tr><th></th><th scope=col>ncomp</th><th scope=col>Rsquared</th><th scope=col>RsquaredSD</th><th scope=col>RsquaredSEM</th></tr>\n",
              "\t<tr><th></th><th scope=col>&lt;dbl&gt;</th><th scope=col>&lt;dbl&gt;</th><th scope=col>&lt;dbl&gt;</th><th scope=col>&lt;dbl&gt;</th></tr>\n",
              "</thead>\n",
              "<tbody>\n",
              "\t<tr><th scope=row>4</th><td>4</td><td>0.5647105</td><td>0.2018239</td><td>0.02854221</td></tr>\n",
              "</tbody>\n",
              "</table>\n"
            ]
          },
          "metadata": {
            "tags": []
          }
        }
      ]
    },
    {
      "cell_type": "code",
      "metadata": {
        "id": "YpyjJufsjyVF"
      },
      "source": [
        "R2values$tolerance <- (R2values$Rsquared - bestR2$Rsquared)/bestR2$Rsquared * 100"
      ],
      "execution_count": null,
      "outputs": []
    },
    {
      "cell_type": "code",
      "metadata": {
        "colab": {
          "base_uri": "https://localhost:8080/",
          "height": 66
        },
        "id": "bBFayRm4j0-B",
        "outputId": "1e3e4aab-76c0-428d-8975-1f32f4201a1e"
      },
      "source": [
        "R2values$tolerance"
      ],
      "execution_count": null,
      "outputs": [
        {
          "output_type": "display_data",
          "data": {
            "text/plain": [
              " [1] -16.3036434  -6.9768746  -0.4462592   0.0000000  -1.1626131  -1.7416658\n",
              " [7]  -2.6406606  -2.4449613  -4.7879868  -6.6947543"
            ],
            "text/latex": "\\begin{enumerate*}\n\\item -16.3036433929558\n\\item -6.97687460073197\n\\item -0.44625922758469\n\\item 0\n\\item -1.16261307338865\n\\item -1.74166578388122\n\\item -2.64066062530905\n\\item -2.44496126273184\n\\item -4.78798681176691\n\\item -6.69475428165702\n\\end{enumerate*}\n",
            "text/markdown": "1. -16.3036433929558\n2. -6.97687460073197\n3. -0.44625922758469\n4. 0\n5. -1.16261307338865\n6. -1.74166578388122\n7. -2.64066062530905\n8. -2.44496126273184\n9. -4.78798681176691\n10. -6.69475428165702\n\n\n",
            "text/html": [
              "<style>\n",
              ".list-inline {list-style: none; margin:0; padding: 0}\n",
              ".list-inline>li {display: inline-block}\n",
              ".list-inline>li:not(:last-child)::after {content: \"\\00b7\"; padding: 0 .5ex}\n",
              "</style>\n",
              "<ol class=list-inline><li>-16.3036433929558</li><li>-6.97687460073197</li><li>-0.44625922758469</li><li>0</li><li>-1.16261307338865</li><li>-1.74166578388122</li><li>-2.64066062530905</li><li>-2.44496126273184</li><li>-4.78798681176691</li><li>-6.69475428165702</li></ol>\n"
            ]
          },
          "metadata": {
            "tags": []
          }
        }
      ]
    },
    {
      "cell_type": "markdown",
      "metadata": {
        "id": "J9QZtsONmjrk"
      },
      "source": [
        "Let's stick with ggplot2 graphics and plot these in Figure 5 using qplot(ncomp, tolerance, data\n",
        "= R2values). The lowest setting that does not exceed a 10% tolerance is a 2 component model."
      ]
    },
    {
      "cell_type": "code",
      "metadata": {
        "colab": {
          "base_uri": "https://localhost:8080/",
          "height": 436
        },
        "id": "WnlBkNXCj4DZ",
        "outputId": "4a05481e-7e02-464e-9aaf-f01c73331046"
      },
      "source": [
        "qplot(ncomp, tolerance, data= R2values)"
      ],
      "execution_count": null,
      "outputs": [
        {
          "output_type": "display_data",
          "data": {
            "image/png": "[encoded data removed]",
            "text/plain": [
              "plot without title"
            ]
          },
          "metadata": {
            "tags": [],
            "image/png": {
              "width": 420,
              "height": 420
            }
          }
        }
      ]
    },
    {
      "cell_type": "markdown",
      "metadata": {
        "id": "750_BSnkm0iq"
      },
      "source": [
        "Figure 2: R2 tolerance values for the chemical manufacturing data."
      ]
    },
    {
      "cell_type": "markdown",
      "metadata": {
        "id": "vD9VAX_AiWmc"
      },
      "source": [
        "![Capture.PNG](data:image/png;base64,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)"
      ]
    },
    {
      "cell_type": "markdown",
      "metadata": {
        "id": "oapNkIBRiFgs"
      },
      "source": [
        "5C. Looking at Figure 6, the model with the best R2 value is random forest. However, the support\n",
        "vector machine has nearly equivalent results and the confidence intervals for the R2 values have\n",
        "some overlap. The next best model is boosted linear regression, although this model is probably\n",
        "significantly worse that the support vector machine. Based on R2 alone, the random forest or SVM\n",
        "models would be best. \n",
        "\n",
        "5D. However, when execution time is factored in, the SVM model clearly wins\n",
        "since it is far faster. This is, of course, subjective since it is highly dependent on the implementation.\n",
        "If the prediction function needed to be recoded for use, neither of these models would be preferred.\n",
        "In that case, the regression tree or PLS model would be better choices, albeit with a substantial\n",
        "drop in R2."
      ]
    },
    {
      "cell_type": "code",
      "metadata": {
        "id": "grOO2YdfiLug"
      },
      "source": [
        ""
      ],
      "execution_count": null,
      "outputs": []
    }
  ]
}